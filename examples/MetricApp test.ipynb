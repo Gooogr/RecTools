{
 "cells": [
  {
   "cell_type": "code",
   "execution_count": null,
   "metadata": {},
   "outputs": [],
   "source": [
    "from rectools.visuals import MetricsApp\n",
    "from rectools import Columns\n",
    "import pandas as pd\n"
   ]
  },
  {
   "cell_type": "code",
   "execution_count": null,
   "metadata": {},
   "outputs": [],
   "source": [
    "data = [{'model': 'random',\n",
    "  'i_split': 0,\n",
    "  'prec@1': 0.0,\n",
    "  'prec@10': 0.002666666666666667,\n",
    "  'recall@10': 0.0008315950493672646,\n",
    "  'novelty@10': 6.520986874262894,\n",
    "  'serendipity@10': 0.0004220183486238532},\n",
    " {'model': 'popular',\n",
    "  'i_split': 0,\n",
    "  'prec@1': 0.05333333333333334,\n",
    "  'prec@10': 0.023999999999999997,\n",
    "  'recall@10': 0.03740973721177236,\n",
    "  'novelty@10': 1.5807359233879539,\n",
    "  'serendipity@10': 0.0001230437128980036},\n",
    " {'model': 'most_raited',\n",
    "  'i_split': 0,\n",
    "  'prec@1': 0.05333333333333334,\n",
    "  'prec@10': 0.02666666666666667,\n",
    "  'recall@10': 0.04225134477678418,\n",
    "  'novelty@10': 1.5925431714409506,\n",
    "  'serendipity@10': 0.00015146609102356583},\n",
    " {'model': 'tfidf_k=5',\n",
    "  'i_split': 0,\n",
    "  'prec@1': 0.05333333333333334,\n",
    "  'prec@10': 0.021333333333333333,\n",
    "  'recall@10': 0.023865993925579275,\n",
    "  'novelty@10': 2.3611893254862615,\n",
    "  'serendipity@10': 0.00046483180428134576},\n",
    " {'model': 'tfidf_k=10',\n",
    "  'i_split': 0,\n",
    "  'prec@1': 0.02666666666666667,\n",
    "  'prec@10': 0.021333333333333336,\n",
    "  'recall@10': 0.03992615769712139,\n",
    "  'novelty@10': 2.1374512956864504,\n",
    "  'serendipity@10': 0.00032667745997481555},\n",
    " {'model': 'bm25_k=10_k1=0.05_b=0.1',\n",
    "  'i_split': 0,\n",
    "  'prec@1': 0.02666666666666667,\n",
    "  'prec@10': 0.02933333333333333,\n",
    "  'recall@10': 0.04664484188165965,\n",
    "  'novelty@10': 1.781881205653653,\n",
    "  'serendipity@10': 0.0002709120345385858},\n",
    " {'model': 'random',\n",
    "  'i_split': 1,\n",
    "  'prec@1': 0.017543859649122806,\n",
    "  'prec@10': 0.005263157894736843,\n",
    "  'recall@10': 0.0007317526020904097,\n",
    "  'novelty@10': 6.490783262148245,\n",
    "  'serendipity@10': 0.0006049933251910133},\n",
    " {'model': 'popular',\n",
    "  'i_split': 1,\n",
    "  'prec@1': 0.05263157894736842,\n",
    "  'prec@10': 0.05789473684210527,\n",
    "  'recall@10': 0.015707029308143088,\n",
    "  'novelty@10': 1.5884137454689444,\n",
    "  'serendipity@10': 0.00018272881339885085},\n",
    " {'model': 'most_raited',\n",
    "  'i_split': 1,\n",
    "  'prec@1': 0.03508771929824561,\n",
    "  'prec@10': 0.056140350877192984,\n",
    "  'recall@10': 0.009918668187371998,\n",
    "  'novelty@10': 1.6006279612022085,\n",
    "  'serendipity@10': 0.00015479876160990716},\n",
    " {'model': 'tfidf_k=5',\n",
    "  'i_split': 1,\n",
    "  'prec@1': 0.05263157894736842,\n",
    "  'prec@10': 0.05789473684210527,\n",
    "  'recall@10': 0.048591489360456146,\n",
    "  'novelty@10': 2.3261163377380436,\n",
    "  'serendipity@10': 0.002616430444703231},\n",
    " {'model': 'tfidf_k=10',\n",
    "  'i_split': 1,\n",
    "  'prec@1': 0.05263157894736842,\n",
    "  'prec@10': 0.05263157894736842,\n",
    "  'recall@10': 0.010032924304988542,\n",
    "  'novelty@10': 2.143504142765339,\n",
    "  'serendipity@10': 0.0009174311926605506},\n",
    " {'model': 'bm25_k=10_k1=0.05_b=0.1',\n",
    "  'i_split': 1,\n",
    "  'prec@1': 0.07017543859649122,\n",
    "  'prec@10': 0.05964912280701754,\n",
    "  'recall@10': 0.010320823229416236,\n",
    "  'novelty@10': 1.8094164875617524,\n",
    "  'serendipity@10': 0.00034131470067505596},\n",
    " {'model': 'random',\n",
    "  'i_split': 2,\n",
    "  'prec@1': 0.015151515151515152,\n",
    "  'prec@10': 0.0030303030303030303,\n",
    "  'recall@10': 0.000876775470327413,\n",
    "  'novelty@10': 6.336689727901374,\n",
    "  'serendipity@10': 0.0005785049632863989},\n",
    " {'model': 'popular',\n",
    "  'i_split': 2,\n",
    "  'prec@1': 0.045454545454545456,\n",
    "  'prec@10': 0.04242424242424242,\n",
    "  'recall@10': 0.03998411752019977,\n",
    "  'novelty@10': 1.6566376578061555,\n",
    "  'serendipity@10': 0.0004501300103027036},\n",
    " {'model': 'most_raited',\n",
    "  'i_split': 2,\n",
    "  'prec@1': 0.045454545454545456,\n",
    "  'prec@10': 0.03939393939393939,\n",
    "  'recall@10': 0.024520628856449338,\n",
    "  'novelty@10': 1.6681081982403094,\n",
    "  'serendipity@10': 0.00033197599306611727},\n",
    " {'model': 'tfidf_k=5',\n",
    "  'i_split': 2,\n",
    "  'prec@1': 0.09090909090909091,\n",
    "  'prec@10': 0.05,\n",
    "  'recall@10': 0.03960590857136325,\n",
    "  'novelty@10': 2.3789877971109377,\n",
    "  'serendipity@10': 0.0015000245302457921},\n",
    " {'model': 'tfidf_k=10',\n",
    "  'i_split': 2,\n",
    "  'prec@1': 0.06060606060606061,\n",
    "  'prec@10': 0.051515151515151514,\n",
    "  'recall@10': 0.05353102602001291,\n",
    "  'novelty@10': 2.2069212290765483,\n",
    "  'serendipity@10': 0.0013463016566092655},\n",
    " {'model': 'bm25_k=10_k1=0.05_b=0.1',\n",
    "  'i_split': 2,\n",
    "  'prec@1': 0.09090909090909091,\n",
    "  'prec@10': 0.039393939393939405,\n",
    "  'recall@10': 0.038425713736665104,\n",
    "  'novelty@10': 1.9013157591861718,\n",
    "  'serendipity@10': 0.00039749219120508925}]\n",
    "\n",
    "meta_data = {\n",
    "  \"model\": [\"random\", \"popular\", \"most_raited\", \"tfidf_k=5\", \"tfidf_k=10\", \"bm25_k=10_k1=0.05_b=0.1\"],\n",
    "  \"k\": [None, None, None, 5, 10, 10],\n",
    "  \"k1\": [None, None, None, None, None, 0.05],\n",
    "  \"b\": [None, None, None, 0.11111111, 0.1, 0.143],\n",
    "}"
   ]
  },
  {
   "cell_type": "code",
   "execution_count": null,
   "metadata": {},
   "outputs": [],
   "source": [
    "models_metrics = pd.DataFrame(data)\n",
    "models_metadata = pd.DataFrame(meta_data)"
   ]
  },
  {
   "cell_type": "code",
   "execution_count": null,
   "metadata": {},
   "outputs": [],
   "source": [
    "models_metrics"
   ]
  },
  {
   "cell_type": "code",
   "execution_count": null,
   "metadata": {},
   "outputs": [],
   "source": [
    "models_metadata"
   ]
  },
  {
   "cell_type": "code",
   "execution_count": null,
   "metadata": {},
   "outputs": [],
   "source": [
    "app_no_meta = MetricsApp.construct(models_metrics)"
   ]
  },
  {
   "cell_type": "code",
   "execution_count": null,
   "metadata": {},
   "outputs": [],
   "source": [
    "app_no_meta_no_legend = MetricsApp.construct(models_metrics, show_legend=False)"
   ]
  },
  {
   "cell_type": "code",
   "execution_count": null,
   "metadata": {},
   "outputs": [],
   "source": [
    "app_with_meta = MetricsApp.construct(models_metrics, models_metadata)"
   ]
  },
  {
   "cell_type": "code",
   "execution_count": null,
   "metadata": {},
   "outputs": [],
   "source": [
    "models_metrics_no_split = models_metrics[models_metrics[\"i_split\"] == 0].drop(columns=\"i_split\")\n",
    "app_with_meta_no_split = MetricsApp.construct(models_metrics_no_split, models_metadata)"
   ]
  },
  {
   "cell_type": "code",
   "execution_count": null,
   "metadata": {},
   "outputs": [],
   "source": [
    "models_metrics_no_split = models_metrics[models_metrics[\"i_split\"] == 0].drop(columns=\"i_split\")\n",
    "app_with_meta_no_split_no_meta = MetricsApp.construct(models_metrics_no_split)"
   ]
  },
  {
   "cell_type": "code",
   "execution_count": null,
   "metadata": {},
   "outputs": [],
   "source": [
    "import plotly.express as px\n",
    "\n",
    "app_with_meta_custom = MetricsApp.construct(\n",
    "    models_metrics, \n",
    "    models_metadata, \n",
    "    scatter_kwargs={\"color_discrete_sequence\": px.colors.qualitative.D3_r})"
   ]
  },
  {
   "cell_type": "code",
   "execution_count": null,
   "metadata": {},
   "outputs": [],
   "source": [
    "app_with_meta_custom.fig.update_layout(\n",
    "        title=\"Metrics comparison\",\n",
    ")"
   ]
  }
 ],
 "metadata": {
  "kernelspec": {
   "display_name": ".venv",
   "language": "python",
   "name": "python3"
  },
  "language_info": {
   "codemirror_mode": {
    "name": "ipython",
    "version": 3
   },
   "file_extension": ".py",
   "mimetype": "text/x-python",
   "name": "python",
   "nbconvert_exporter": "python",
   "pygments_lexer": "ipython3",
   "version": "3.10.10"
  },
  "orig_nbformat": 4
 },
 "nbformat": 4,
 "nbformat_minor": 2
}
