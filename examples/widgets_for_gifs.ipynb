{
 "cells": [
  {
   "cell_type": "code",
   "execution_count": 1,
   "metadata": {},
   "outputs": [
    {
     "name": "stderr",
     "output_type": "stream",
     "text": [
      "/Users/greg/repos/RecTools/.venv/lib/python3.10/site-packages/lightfm/_lightfm_fast.py:9: UserWarning: LightFM was compiled without OpenMP support. Only a single thread will be used.\n",
      "  warnings.warn(\n"
     ]
    }
   ],
   "source": [
    "import pandas as pd\n",
    "\n",
    "from rectools import Columns\n",
    "from rectools.visuals import VisualApp, ItemToItemVisualApp\n",
    "\n",
    "from pprint import pprint\n",
    "\n",
    "import numpy as np\n",
    "import pandas as pd\n",
    "\n",
    "from tqdm.auto import tqdm\n",
    "\n",
    "from implicit.nearest_neighbours import TFIDFRecommender, BM25Recommender\n",
    "from implicit.als import AlternatingLeastSquares\n",
    "\n",
    "from rectools import Columns\n",
    "from rectools.dataset import Dataset\n",
    "from rectools.metrics import Precision, Recall, MeanInvUserFreq, Serendipity, calc_metrics\n",
    "from rectools.models import ImplicitItemKNNWrapperModel, RandomModel, PopularModel\n",
    "from rectools.model_selection import TimeRangeSplitter, cross_validate\n",
    "from rectools.visuals import MetricsApp"
   ]
  },
  {
   "cell_type": "code",
   "execution_count": 3,
   "metadata": {},
   "outputs": [],
   "source": [
    "MODEL_DATA_DICT = [{'model': 'random',\n",
    "  'i_split': 0,\n",
    "  'prec@1': 0.0,\n",
    "  'prec@10': 0.002666666666666667,\n",
    "  'recall@10': 0.0008315950493672646,\n",
    "  'novelty@10': 6.520986874262894,\n",
    "  'serendipity@10': 0.0004220183486238532},\n",
    " {'model': 'popular',\n",
    "  'i_split': 0,\n",
    "  'prec@1': 0.05333333333333334,\n",
    "  'prec@10': 0.023999999999999997,\n",
    "  'recall@10': 0.03740973721177236,\n",
    "  'novelty@10': 1.5807359233879539,\n",
    "  'serendipity@10': 0.0001230437128980036},\n",
    " {'model': 'most_rated',\n",
    "  'i_split': 0,\n",
    "  'prec@1': 0.05333333333333334,\n",
    "  'prec@10': 0.02666666666666667,\n",
    "  'recall@10': 0.04225134477678418,\n",
    "  'novelty@10': 1.5925431714409506,\n",
    "  'serendipity@10': 0.00015146609102356583},\n",
    " {'model': 'tfidf_k=5',\n",
    "  'i_split': 0,\n",
    "  'prec@1': 0.05333333333333334,\n",
    "  'prec@10': 0.021333333333333333,\n",
    "  'recall@10': 0.023865993925579275,\n",
    "  'novelty@10': 2.3611893254862615,\n",
    "  'serendipity@10': 0.00046483180428134576},\n",
    " {'model': 'tfidf_k=10',\n",
    "  'i_split': 0,\n",
    "  'prec@1': 0.02666666666666667,\n",
    "  'prec@10': 0.021333333333333336,\n",
    "  'recall@10': 0.03992615769712139,\n",
    "  'novelty@10': 2.1374512956864504,\n",
    "  'serendipity@10': 0.00032667745997481555},\n",
    " {'model': 'bm25_k=10_k1=0.05_b=0.1',\n",
    "  'i_split': 0,\n",
    "  'prec@1': 0.02666666666666667,\n",
    "  'prec@10': 0.02933333333333333,\n",
    "  'recall@10': 0.04664484188165965,\n",
    "  'novelty@10': 1.781881205653653,\n",
    "  'serendipity@10': 0.0002709120345385858},\n",
    " {'model': 'random',\n",
    "  'i_split': 1,\n",
    "  'prec@1': 0.017543859649122806,\n",
    "  'prec@10': 0.005263157894736843,\n",
    "  'recall@10': 0.0007317526020904097,\n",
    "  'novelty@10': 6.490783262148245,\n",
    "  'serendipity@10': 0.0006049933251910133},\n",
    " {'model': 'popular',\n",
    "  'i_split': 1,\n",
    "  'prec@1': 0.05263157894736842,\n",
    "  'prec@10': 0.05789473684210527,\n",
    "  'recall@10': 0.015707029308143088,\n",
    "  'novelty@10': 1.5884137454689444,\n",
    "  'serendipity@10': 0.00018272881339885085},\n",
    " {'model': 'most_rated',\n",
    "  'i_split': 1,\n",
    "  'prec@1': 0.03508771929824561,\n",
    "  'prec@10': 0.056140350877192984,\n",
    "  'recall@10': 0.009918668187371998,\n",
    "  'novelty@10': 1.6006279612022085,\n",
    "  'serendipity@10': 0.00015479876160990716},\n",
    " {'model': 'tfidf_k=5',\n",
    "  'i_split': 1,\n",
    "  'prec@1': 0.05263157894736842,\n",
    "  'prec@10': 0.05789473684210527,\n",
    "  'recall@10': 0.048591489360456146,\n",
    "  'novelty@10': 2.3261163377380436,\n",
    "  'serendipity@10': 0.002616430444703231},\n",
    " {'model': 'tfidf_k=10',\n",
    "  'i_split': 1,\n",
    "  'prec@1': 0.05263157894736842,\n",
    "  'prec@10': 0.05263157894736842,\n",
    "  'recall@10': 0.010032924304988542,\n",
    "  'novelty@10': 2.143504142765339,\n",
    "  'serendipity@10': 0.0009174311926605506},\n",
    " {'model': 'bm25_k=10_k1=0.05_b=0.1',\n",
    "  'i_split': 1,\n",
    "  'prec@1': 0.07017543859649122,\n",
    "  'prec@10': 0.05964912280701754,\n",
    "  'recall@10': 0.010320823229416236,\n",
    "  'novelty@10': 1.8094164875617524,\n",
    "  'serendipity@10': 0.00034131470067505596},\n",
    " {'model': 'random',\n",
    "  'i_split': 2,\n",
    "  'prec@1': 0.015151515151515152,\n",
    "  'prec@10': 0.0030303030303030303,\n",
    "  'recall@10': 0.000876775470327413,\n",
    "  'novelty@10': 6.336689727901374,\n",
    "  'serendipity@10': 0.0005785049632863989},\n",
    " {'model': 'popular',\n",
    "  'i_split': 2,\n",
    "  'prec@1': 0.045454545454545456,\n",
    "  'prec@10': 0.04242424242424242,\n",
    "  'recall@10': 0.03998411752019977,\n",
    "  'novelty@10': 1.6566376578061555,\n",
    "  'serendipity@10': 0.0004501300103027036},\n",
    " {'model': 'most_rated',\n",
    "  'i_split': 2,\n",
    "  'prec@1': 0.045454545454545456,\n",
    "  'prec@10': 0.03939393939393939,\n",
    "  'recall@10': 0.024520628856449338,\n",
    "  'novelty@10': 1.6681081982403094,\n",
    "  'serendipity@10': 0.00033197599306611727},\n",
    " {'model': 'tfidf_k=5',\n",
    "  'i_split': 2,\n",
    "  'prec@1': 0.09090909090909091,\n",
    "  'prec@10': 0.05,\n",
    "  'recall@10': 0.03960590857136325,\n",
    "  'novelty@10': 2.3789877971109377,\n",
    "  'serendipity@10': 0.0015000245302457921},\n",
    " {'model': 'tfidf_k=10',\n",
    "  'i_split': 2,\n",
    "  'prec@1': 0.06060606060606061,\n",
    "  'prec@10': 0.051515151515151514,\n",
    "  'recall@10': 0.05353102602001291,\n",
    "  'novelty@10': 2.2069212290765483,\n",
    "  'serendipity@10': 0.0013463016566092655},\n",
    " {'model': 'bm25_k=10_k1=0.05_b=0.1',\n",
    "  'i_split': 2,\n",
    "  'prec@1': 0.09090909090909091,\n",
    "  'prec@10': 0.039393939393939405,\n",
    "  'recall@10': 0.038425713736665104,\n",
    "  'novelty@10': 1.9013157591861718,\n",
    "  'serendipity@10': 0.00039749219120508925}]"
   ]
  },
  {
   "cell_type": "code",
   "execution_count": 6,
   "metadata": {},
   "outputs": [],
   "source": [
    "META_DATA_DICT = {\n",
    "    Columns.Model: [\"random\", \"popular\", \"most_rated\", \"tfidf_k=5\", \"tfidf_k=10\", \"bm25_k=10_k1=0.05_b=0.1\"],\n",
    "    \"k\": [None, None, None, 5, 10, 10]\n",
    "}"
   ]
  },
  {
   "cell_type": "code",
   "execution_count": 7,
   "metadata": {},
   "outputs": [],
   "source": [
    "model_data = pd.DataFrame(MODEL_DATA_DICT)\n",
    "model_metadata = pd.DataFrame(META_DATA_DICT)"
   ]
  },
  {
   "cell_type": "code",
   "execution_count": 9,
   "metadata": {},
   "outputs": [
    {
     "data": {
      "application/vnd.jupyter.widget-view+json": {
       "model_id": "a9f8a1bf05d441f7822521c971457121",
       "version_major": 2,
       "version_minor": 0
      },
      "text/plain": [
       "VBox(children=(Tab(children=(VBox(children=(HBox(children=(Checkbox(value=True, description='Average folds'), …"
      ]
     },
     "metadata": {},
     "output_type": "display_data"
    }
   ],
   "source": [
    "metrics_app = MetricsApp.construct(\n",
    "    models_metrics=model_data,\n",
    "    models_metadata=model_metadata,\n",
    ")"
   ]
  },
  {
   "cell_type": "markdown",
   "metadata": {},
   "source": [
    "---"
   ]
  },
  {
   "cell_type": "code",
   "execution_count": 10,
   "metadata": {},
   "outputs": [
    {
     "data": {
      "text/html": [
       "<div>\n",
       "<style scoped>\n",
       "    .dataframe tbody tr th:only-of-type {\n",
       "        vertical-align: middle;\n",
       "    }\n",
       "\n",
       "    .dataframe tbody tr th {\n",
       "        vertical-align: top;\n",
       "    }\n",
       "\n",
       "    .dataframe thead th {\n",
       "        text-align: right;\n",
       "    }\n",
       "</style>\n",
       "<table border=\"1\" class=\"dataframe\">\n",
       "  <thead>\n",
       "    <tr style=\"text-align: right;\">\n",
       "      <th></th>\n",
       "      <th>user_id</th>\n",
       "      <th>item_id</th>\n",
       "    </tr>\n",
       "  </thead>\n",
       "  <tbody>\n",
       "    <tr>\n",
       "      <th>0</th>\n",
       "      <td>10</td>\n",
       "      <td>1</td>\n",
       "    </tr>\n",
       "    <tr>\n",
       "      <th>1</th>\n",
       "      <td>10</td>\n",
       "      <td>2</td>\n",
       "    </tr>\n",
       "    <tr>\n",
       "      <th>2</th>\n",
       "      <td>20</td>\n",
       "      <td>4</td>\n",
       "    </tr>\n",
       "  </tbody>\n",
       "</table>\n",
       "</div>"
      ],
      "text/plain": [
       "   user_id  item_id\n",
       "0       10        1\n",
       "1       10        2\n",
       "2       20        4"
      ]
     },
     "execution_count": 10,
     "metadata": {},
     "output_type": "execute_result"
    }
   ],
   "source": [
    "interactions = pd.DataFrame({\n",
    "    \"user_id\": [10, 10, 20],\n",
    "    \"item_id\": [1, 2, 4],\n",
    "})\n",
    "interactions"
   ]
  },
  {
   "cell_type": "code",
   "execution_count": 11,
   "metadata": {},
   "outputs": [
    {
     "data": {
      "text/html": [
       "<div>\n",
       "<style scoped>\n",
       "    .dataframe tbody tr th:only-of-type {\n",
       "        vertical-align: middle;\n",
       "    }\n",
       "\n",
       "    .dataframe tbody tr th {\n",
       "        vertical-align: top;\n",
       "    }\n",
       "\n",
       "    .dataframe thead th {\n",
       "        text-align: right;\n",
       "    }\n",
       "</style>\n",
       "<table border=\"1\" class=\"dataframe\">\n",
       "  <thead>\n",
       "    <tr style=\"text-align: right;\">\n",
       "      <th></th>\n",
       "      <th>user_id</th>\n",
       "      <th>item_id</th>\n",
       "      <th>rank</th>\n",
       "      <th>model</th>\n",
       "    </tr>\n",
       "  </thead>\n",
       "  <tbody>\n",
       "    <tr>\n",
       "      <th>0</th>\n",
       "      <td>10</td>\n",
       "      <td>4</td>\n",
       "      <td>1</td>\n",
       "      <td>Random model</td>\n",
       "    </tr>\n",
       "    <tr>\n",
       "      <th>1</th>\n",
       "      <td>10</td>\n",
       "      <td>0</td>\n",
       "      <td>2</td>\n",
       "      <td>Random model</td>\n",
       "    </tr>\n",
       "    <tr>\n",
       "      <th>2</th>\n",
       "      <td>20</td>\n",
       "      <td>1</td>\n",
       "      <td>1</td>\n",
       "      <td>Random model</td>\n",
       "    </tr>\n",
       "    <tr>\n",
       "      <th>3</th>\n",
       "      <td>20</td>\n",
       "      <td>2</td>\n",
       "      <td>2</td>\n",
       "      <td>Random model</td>\n",
       "    </tr>\n",
       "  </tbody>\n",
       "</table>\n",
       "</div>"
      ],
      "text/plain": [
       "   user_id  item_id  rank         model\n",
       "0       10        4     1  Random model\n",
       "1       10        0     2  Random model\n",
       "2       20        1     1  Random model\n",
       "3       20        2     2  Random model"
      ]
     },
     "execution_count": 11,
     "metadata": {},
     "output_type": "execute_result"
    }
   ],
   "source": [
    "reco = pd.DataFrame({\n",
    "    \"user_id\": [10, 10, 20, 20],\n",
    "    \"item_id\": [4, 0, 1, 2],\n",
    "    \"rank\": [1, 2, 1, 2],\n",
    "    \"model\": [\"Random model\"] * 4\n",
    "})\n",
    "reco"
   ]
  },
  {
   "cell_type": "code",
   "execution_count": 12,
   "metadata": {},
   "outputs": [
    {
     "data": {
      "text/html": [
       "<div>\n",
       "<style scoped>\n",
       "    .dataframe tbody tr th:only-of-type {\n",
       "        vertical-align: middle;\n",
       "    }\n",
       "\n",
       "    .dataframe tbody tr th {\n",
       "        vertical-align: top;\n",
       "    }\n",
       "\n",
       "    .dataframe thead th {\n",
       "        text-align: right;\n",
       "    }\n",
       "</style>\n",
       "<table border=\"1\" class=\"dataframe\">\n",
       "  <thead>\n",
       "    <tr style=\"text-align: right;\">\n",
       "      <th></th>\n",
       "      <th>item_id</th>\n",
       "      <th>name</th>\n",
       "      <th>jenre</th>\n",
       "      <th>img_url</th>\n",
       "    </tr>\n",
       "  </thead>\n",
       "  <tbody>\n",
       "    <tr>\n",
       "      <th>0</th>\n",
       "      <td>0</td>\n",
       "      <td>Green book</td>\n",
       "      <td>drama</td>\n",
       "      <td>https://avatars.mds.yandex.net/get-kinopoisk-i...</td>\n",
       "    </tr>\n",
       "    <tr>\n",
       "      <th>1</th>\n",
       "      <td>1</td>\n",
       "      <td>Meir from Easttown</td>\n",
       "      <td>detective</td>\n",
       "      <td>https://avatars.mds.yandex.net/get-kinopoisk-i...</td>\n",
       "    </tr>\n",
       "    <tr>\n",
       "      <th>2</th>\n",
       "      <td>2</td>\n",
       "      <td>True detective</td>\n",
       "      <td>detective</td>\n",
       "      <td>https://avatars.mds.yandex.net/get-kinopoisk-i...</td>\n",
       "    </tr>\n",
       "    <tr>\n",
       "      <th>3</th>\n",
       "      <td>3</td>\n",
       "      <td>Oppenheimer</td>\n",
       "      <td>drama</td>\n",
       "      <td>https://avatars.mds.yandex.net/get-kinopoisk-i...</td>\n",
       "    </tr>\n",
       "    <tr>\n",
       "      <th>4</th>\n",
       "      <td>4</td>\n",
       "      <td>John Wick</td>\n",
       "      <td>action</td>\n",
       "      <td>https://avatars.mds.yandex.net/get-kinopoisk-i...</td>\n",
       "    </tr>\n",
       "  </tbody>\n",
       "</table>\n",
       "</div>"
      ],
      "text/plain": [
       "   item_id                name      jenre  \\\n",
       "0        0          Green book      drama   \n",
       "1        1  Meir from Easttown  detective   \n",
       "2        2      True detective  detective   \n",
       "3        3         Oppenheimer      drama   \n",
       "4        4           John Wick     action   \n",
       "\n",
       "                                             img_url  \n",
       "0  https://avatars.mds.yandex.net/get-kinopoisk-i...  \n",
       "1  https://avatars.mds.yandex.net/get-kinopoisk-i...  \n",
       "2  https://avatars.mds.yandex.net/get-kinopoisk-i...  \n",
       "3  https://avatars.mds.yandex.net/get-kinopoisk-i...  \n",
       "4  https://avatars.mds.yandex.net/get-kinopoisk-i...  "
      ]
     },
     "execution_count": 12,
     "metadata": {},
     "output_type": "execute_result"
    }
   ],
   "source": [
    "item_data = pd.DataFrame({\n",
    "    \"item_id\": range(5),\n",
    "    \"name\": [\"Green book\", \"Meir from Easttown\", \"True detective\", \"Oppenheimer\", \"John Wick\"],\n",
    "    \"jenre\": [\"drama\", \"detective\", \"detective\", \"drama\", \"action\"],\n",
    "    \"img_url\": [\n",
    "        'https://avatars.mds.yandex.net/get-kinopoisk-image/1900788/8e4206c9-fb99-4f43-9170-4586a5bc5b9b/3840x',\n",
    "        'https://avatars.mds.yandex.net/get-kinopoisk-image/4774061/9c4e7a31-2b5a-4c8c-abc3-bfd67b8778cb/576x',\n",
    "        'https://avatars.mds.yandex.net/get-kinopoisk-image/1946459/f5d887aa-dee4-4158-9713-61d41b04f94d/3840x',\n",
    "        'https://avatars.mds.yandex.net/get-kinopoisk-image/6201401/9d064dee-0b29-4660-881a-1e7a3f81b3da/3840x',\n",
    "        'https://avatars.mds.yandex.net/get-kinopoisk-image/1946459/bed1d2f9-cf3a-46a2-a6cd-cde4dc41ea43/3840x'\n",
    "        ]\n",
    "})\n",
    "item_data"
   ]
  },
  {
   "cell_type": "code",
   "execution_count": 13,
   "metadata": {},
   "outputs": [
    {
     "data": {
      "application/vnd.jupyter.widget-view+json": {
       "model_id": "0876fb8240fb4bf8a633a030a55608a4",
       "version_major": 2,
       "version_minor": 0
      },
      "text/plain": [
       "VBox(children=(ToggleButtons(button_style='warning', description='Target:', options=('detective user', 'action…"
      ]
     },
     "metadata": {},
     "output_type": "display_data"
    }
   ],
   "source": [
    "visual_app = VisualApp.construct(\n",
    "    reco=reco,\n",
    "    interactions=interactions,\n",
    "    item_data=item_data,\n",
    "    selected_users={\"detective user\": 10, \"action user\": 20},  # users that we want to visualise\n",
    "    formatters={\"img_url\": lambda x: f\"<img src={x} width=100>\"}  # process \"img_url\" links to html code\n",
    ")"
   ]
  },
  {
   "cell_type": "code",
   "execution_count": null,
   "metadata": {},
   "outputs": [],
   "source": []
  }
 ],
 "metadata": {
  "kernelspec": {
   "display_name": ".venv",
   "language": "python",
   "name": "python3"
  },
  "language_info": {
   "codemirror_mode": {
    "name": "ipython",
    "version": 3
   },
   "file_extension": ".py",
   "mimetype": "text/x-python",
   "name": "python",
   "nbconvert_exporter": "python",
   "pygments_lexer": "ipython3",
   "version": "3.10.14"
  }
 },
 "nbformat": 4,
 "nbformat_minor": 2
}
